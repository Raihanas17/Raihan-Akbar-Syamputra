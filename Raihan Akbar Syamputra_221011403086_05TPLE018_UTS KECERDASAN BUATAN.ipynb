{
  "nbformat": 4,
  "nbformat_minor": 0,
  "metadata": {
    "colab": {
      "provenance": [],
      "authorship_tag": "ABX9TyOA+nOul97tvkXV6z7r6QfM",
      "include_colab_link": true
    },
    "kernelspec": {
      "name": "python3",
      "display_name": "Python 3"
    },
    "language_info": {
      "name": "python"
    }
  },
  "cells": [
    {
      "cell_type": "markdown",
      "metadata": {
        "id": "view-in-github",
        "colab_type": "text"
      },
      "source": [
        "<a href=\"https://colab.research.google.com/github/Raihanas17/learn-data/blob/main/Raihan%20Akbar%20Syamputra_221011403086_05TPLE018_UTS%20KECERDASAN%20BUATAN.ipynb\" target=\"_parent\"><img src=\"https://colab.research.google.com/assets/colab-badge.svg\" alt=\"Open In Colab\"/></a>"
      ]
    },
    {
      "cell_type": "code",
      "execution_count": 1,
      "metadata": {
        "id": "UABvFp1P_GOz"
      },
      "outputs": [],
      "source": [
        "# Data\n",
        "\n",
        "company_detail_list = [\n",
        "      {\n",
        "          'name': 'Company 1',\n",
        "          'domain': 'Retail',\n",
        "          'country': 'United States'\n",
        "      },\n",
        "      {\n",
        "          'name': 'Company 2',\n",
        "          'domain': 'Technology',\n",
        "          'country': 'United Kingdom'\n",
        "      },\n",
        "      {\n",
        "          'name': 'Company 3',\n",
        "          'domain': 'Healthcare',\n",
        "          'country': 'United States'\n",
        "      }\n",
        "  ]\n",
        "\n",
        "employee_detail_list = [\n",
        "     {\n",
        "          'name': 'EMP-0001',\n",
        "          'first_name': 'John',\n",
        "          'last_name': 'Doe',\n",
        "          'full_name': 'John Doe',\n",
        "          'company': 'Company 1',\n",
        "          'nationality': 'Australia'\n",
        "      },\n",
        "      {\n",
        "          'name': 'EMP-0002',\n",
        "          'first_name': 'Tom',\n",
        "          'last_name': 'Smith',\n",
        "          'full_name': 'Tom Smith',\n",
        "          'company': 'Company 2',\n",
        "          'nationality': 'United States'\n",
        "      },\n",
        "      {\n",
        "          'name': 'EMP-0003',\n",
        "          'first_name': 'Andrew',\n",
        "          'last_name': 'Sebastian',\n",
        "          'full_name': 'Andrew Sebastian',\n",
        "          'company': 'Company 3',\n",
        "          'nationality': 'United States'\n",
        "      },\n",
        "      {\n",
        "          'name': 'EMP-0005',\n",
        "          'first_name': 'Ying Han',\n",
        "          'last_name': 'Tan',\n",
        "          'full_name': 'Ying Han Tan',\n",
        "          'company': 'Company 1',\n",
        "          'nationality': 'Australia'\n",
        "      },\n",
        "      {\n",
        "          'name': 'EMP-0015',\n",
        "          'first_name': 'Kenneth',\n",
        "          'last_name': 'Ng',\n",
        "          'full_name': 'Kenneth Ng',\n",
        "          'company': 'Company 3',\n",
        "          'nationality': 'United States'\n",
        "      },\n",
        "      {\n",
        "          'name': 'EMP-0018',\n",
        "          'first_name': 'Rubby',\n",
        "          'last_name': 'Lee',\n",
        "          'full_name': 'Rubby Lee',\n",
        "          'company': 'Company 2',\n",
        "          'nationality': 'Hong Kong'\n",
        "      },\n",
        "     {\n",
        "          'name': 'EMP-0017',\n",
        "          'first_name': 'Robert',\n",
        "          'last_name': 'White',\n",
        "          'full_name': 'Robert White',\n",
        "          'company': 'Company 1',\n",
        "          'nationality': 'United Kingdom'\n",
        "      }\n",
        "  ]"
      ]
    },
    {
      "cell_type": "markdown",
      "source": [
        "TUGAS 1"
      ],
      "metadata": {
        "id": "mdUJR1Kj_5Tq"
      }
    },
    {
      "cell_type": "code",
      "source": [
        "company_names = sorted([{\"name\": company[\"name\"]} for company in company_detail_list], key=lambda x: x[\"name\"], reverse=True)\n",
        "company_names\n"
      ],
      "metadata": {
        "colab": {
          "base_uri": "https://localhost:8080/"
        },
        "id": "YXyBiGAVAxsn",
        "outputId": "db0d1d62-6765-4b25-be4f-531825f8e850"
      },
      "execution_count": 2,
      "outputs": [
        {
          "output_type": "execute_result",
          "data": {
            "text/plain": [
              "[{'name': 'Company 3'}, {'name': 'Company 2'}, {'name': 'Company 1'}]"
            ]
          },
          "metadata": {},
          "execution_count": 2
        }
      ]
    },
    {
      "cell_type": "markdown",
      "source": [
        "TUGAS 2"
      ],
      "metadata": {
        "id": "cFNlOGcOAuJB"
      }
    },
    {
      "cell_type": "code",
      "source": [
        "for company in company_detail_list:\n",
        "    print(f'{company[\"name\"]}: {company[\"domain\"]} ({company[\"country\"]})')\n"
      ],
      "metadata": {
        "colab": {
          "base_uri": "https://localhost:8080/"
        },
        "id": "FG6GXUHHA3Nt",
        "outputId": "dd078451-25da-4cd0-de34-4f85d80c1c25"
      },
      "execution_count": 3,
      "outputs": [
        {
          "output_type": "stream",
          "name": "stdout",
          "text": [
            "Company 1: Retail (United States)\n",
            "Company 2: Technology (United Kingdom)\n",
            "Company 3: Healthcare (United States)\n"
          ]
        }
      ]
    },
    {
      "cell_type": "markdown",
      "source": [
        "TUGAS 3"
      ],
      "metadata": {
        "id": "5Bzpyq8eA-yl"
      }
    },
    {
      "cell_type": "code",
      "source": [
        "# Membuat dictionary untuk mengelompokkan karyawan berdasarkan domain perusahaan\n",
        "employees_by_domain = {}\n",
        "for employee in employee_detail_list:\n",
        "    company_name = employee[\"company\"]\n",
        "    company = next((c for c in company_detail_list if c[\"name\"] == company_name), None)\n",
        "    if company:\n",
        "        domain = company[\"domain\"]\n",
        "        if domain not in employees_by_domain:\n",
        "            employees_by_domain[domain] = []\n",
        "        employees_by_domain[domain].append(employee[\"full_name\"])\n",
        "\n",
        "employees_by_domain\n"
      ],
      "metadata": {
        "colab": {
          "base_uri": "https://localhost:8080/"
        },
        "id": "_b-pgLR9BCW-",
        "outputId": "9a09876e-6e0b-4f3a-8181-7cb3e9b1cbc2"
      },
      "execution_count": 4,
      "outputs": [
        {
          "output_type": "execute_result",
          "data": {
            "text/plain": [
              "{'Retail': ['John Doe', 'Ying Han Tan', 'Robert White'],\n",
              " 'Technology': ['Tom Smith', 'Rubby Lee'],\n",
              " 'Healthcare': ['Andrew Sebastian', 'Kenneth Ng']}"
            ]
          },
          "metadata": {},
          "execution_count": 4
        }
      ]
    },
    {
      "cell_type": "markdown",
      "source": [
        "TUGAS 4"
      ],
      "metadata": {
        "id": "LRCGNLj8BFkb"
      }
    },
    {
      "cell_type": "code",
      "source": [
        "def get_employees_with_company_country():\n",
        "    employees_with_country = []\n",
        "    for employee in employee_detail_list:\n",
        "        company_name = employee[\"company\"]\n",
        "        company = next((c for c in company_detail_list if c[\"name\"] == company_name), None)\n",
        "        if company:\n",
        "            employees_with_country.append({\n",
        "                \"full_name\": employee[\"full_name\"],\n",
        "                \"company\": company_name,\n",
        "                \"country\": company[\"country\"]\n",
        "            })\n",
        "    return employees_with_country\n",
        "\n",
        "get_employees_with_company_country()\n"
      ],
      "metadata": {
        "colab": {
          "base_uri": "https://localhost:8080/"
        },
        "id": "H_vkgiKQBG06",
        "outputId": "369582f9-139b-475a-fcec-9e96f4605080"
      },
      "execution_count": 5,
      "outputs": [
        {
          "output_type": "execute_result",
          "data": {
            "text/plain": [
              "[{'full_name': 'John Doe', 'company': 'Company 1', 'country': 'United States'},\n",
              " {'full_name': 'Tom Smith',\n",
              "  'company': 'Company 2',\n",
              "  'country': 'United Kingdom'},\n",
              " {'full_name': 'Andrew Sebastian',\n",
              "  'company': 'Company 3',\n",
              "  'country': 'United States'},\n",
              " {'full_name': 'Ying Han Tan',\n",
              "  'company': 'Company 1',\n",
              "  'country': 'United States'},\n",
              " {'full_name': 'Kenneth Ng',\n",
              "  'company': 'Company 3',\n",
              "  'country': 'United States'},\n",
              " {'full_name': 'Rubby Lee',\n",
              "  'company': 'Company 2',\n",
              "  'country': 'United Kingdom'},\n",
              " {'full_name': 'Robert White',\n",
              "  'company': 'Company 1',\n",
              "  'country': 'United States'}]"
            ]
          },
          "metadata": {},
          "execution_count": 5
        }
      ]
    },
    {
      "cell_type": "markdown",
      "source": [
        "TUGAS 5"
      ],
      "metadata": {
        "id": "pQao8kGdBN5_"
      }
    },
    {
      "cell_type": "code",
      "source": [
        "from collections import defaultdict\n",
        "\n",
        "def get_company_employee_nationality_count():\n",
        "    nationality_count_by_company = defaultdict(lambda: defaultdict(int))\n",
        "\n",
        "    for employee in employee_detail_list:\n",
        "        company_name = employee[\"company\"]\n",
        "        nationality = employee[\"nationality\"]\n",
        "        nationality_count_by_company[company_name][nationality] += 1\n",
        "\n",
        "    # Format hasil sesuai harapan\n",
        "    result = []\n",
        "    for company in company_detail_list:\n",
        "        company_name = company[\"name\"]\n",
        "        result.append({\n",
        "            \"company\": company_name,\n",
        "            \"employee_nationality\": dict(nationality_count_by_company[company_name])\n",
        "        })\n",
        "    return result\n",
        "\n",
        "get_company_employee_nationality_count()\n"
      ],
      "metadata": {
        "colab": {
          "base_uri": "https://localhost:8080/"
        },
        "id": "r4SQ43A0BO87",
        "outputId": "1be1b6ad-6325-4bff-da96-849f41d92c37"
      },
      "execution_count": 6,
      "outputs": [
        {
          "output_type": "execute_result",
          "data": {
            "text/plain": [
              "[{'company': 'Company 1',\n",
              "  'employee_nationality': {'Australia': 2, 'United Kingdom': 1}},\n",
              " {'company': 'Company 2',\n",
              "  'employee_nationality': {'United States': 1, 'Hong Kong': 1}},\n",
              " {'company': 'Company 3', 'employee_nationality': {'United States': 2}}]"
            ]
          },
          "metadata": {},
          "execution_count": 6
        }
      ]
    }
  ]
}